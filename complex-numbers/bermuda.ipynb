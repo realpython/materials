{
 "cells": [
  {
   "cell_type": "markdown",
   "id": "8d8f05a0-0ec5-419a-8887-c8507de9f867",
   "metadata": {},
   "source": [
    "# The Bermuda Triangle"
   ]
  },
  {
   "cell_type": "markdown",
   "id": "ea42d70d-64e1-41f3-854d-7256453af2e8",
   "metadata": {},
   "source": [
    "## ipywidgets\n",
    "\n",
    "Here are the import statements for the interactive widgets:"
   ]
  },
  {
   "cell_type": "code",
   "execution_count": 1,
   "id": "fabc2f7d-10ae-4e52-8474-93c56959baa9",
   "metadata": {},
   "outputs": [],
   "source": [
    "from ipywidgets import FloatSlider, IntSlider, interact"
   ]
  },
  {
   "cell_type": "markdown",
   "id": "849a36e9-a55c-4a39-ab39-2a207385df1c",
   "metadata": {},
   "source": [
    "## matplotlib\n",
    "\n",
    "Here's the code that plots the triangle, which you'll use in the following examples:"
   ]
  },
  {
   "cell_type": "code",
   "execution_count": 2,
   "id": "6b3de8c8-6635-490a-9e71-5a3c7d2e0624",
   "metadata": {},
   "outputs": [],
   "source": [
    "import matplotlib.pyplot as plt\n",
    "\n",
    "plt.style.use(\"seaborn\")\n",
    "\n",
    "\n",
    "def draw(\n",
    "    vertices,\n",
    "    xlim=(-90, 20),\n",
    "    ylim=(-20, 50),\n",
    "    fill=\"cornflowerblue\",\n",
    "    stroke=\"royalblue\",\n",
    "    letters=False,\n",
    "):\n",
    "    plt.xlim(xlim)\n",
    "    plt.ylim(ylim)\n",
    "    plt.gca().set_aspect(\"equal\", adjustable=\"box\")\n",
    "    x = [vertex.real for vertex in vertices]\n",
    "    y = [vertex.imag for vertex in vertices]\n",
    "    plt.plot(x, y, \"o\", color=stroke)\n",
    "    plt.gca().add_patch(\n",
    "        plt.Polygon(\n",
    "            list(zip(x, y, strict=False)),\n",
    "            facecolor=fill,\n",
    "            edgecolor=stroke,\n",
    "            alpha=0.5,\n",
    "            lw=2,\n",
    "        )\n",
    "    )\n",
    "    if letters:\n",
    "        for i, vertex in enumerate(vertices):\n",
    "            plt.text(\n",
    "                vertex.real + 1,\n",
    "                vertex.imag + 1,\n",
    "                chr(65 + i),\n",
    "                color=stroke,\n",
    "                fontsize=16,\n",
    "            )\n",
    "    plt.tight_layout()"
   ]
  },
  {
   "cell_type": "markdown",
   "id": "cf2e4cc4-59b5-4f92-add9-3ab2262147c4",
   "metadata": {},
   "source": [
    "## Complex Numbers\n",
    "\n",
    "Define the region with **complex numbers**, whose real part represents the **longitude**, while the imaginary part represents the **latitude** of a city. Ignore the curvature of Earth, assuming the coordinates were already projected from spherical to rectangular:"
   ]
  },
  {
   "cell_type": "code",
   "execution_count": 3,
   "id": "03282c06-8864-41c0-bd39-4f10515a8387",
   "metadata": {},
   "outputs": [],
   "source": [
    "miami_fl = complex(-80.191788, 25.761681)\n",
    "san_juan = complex(-66.105721, 18.466333)\n",
    "hamilton = complex(-64.78303, 32.2949)"
   ]
  },
  {
   "cell_type": "markdown",
   "id": "dbf10f02-e5bf-4892-bae0-27cd882fd9cb",
   "metadata": {},
   "source": [
    "Now, you can draw your triangle:"
   ]
  },
  {
   "cell_type": "code",
   "execution_count": 4,
   "id": "c1fc279d-5a8e-47c5-b52f-cf01c26f84fd",
   "metadata": {},
   "outputs": [
    {
     "data": {
      "image/png": "[encoded data removed]",
      "text/plain": [
       "<Figure size 576x396 with 1 Axes>"
      ]
     },
     "metadata": {},
     "output_type": "display_data"
    }
   ],
   "source": [
    "triangle = miami_fl, san_juan, hamilton\n",
    "draw(triangle)"
   ]
  },
  {
   "cell_type": "markdown",
   "id": "3630b69f-9657-4944-9d70-f51755283f4d",
   "metadata": {},
   "source": [
    "## Translation\n",
    "\n",
    "Align the **geometric center** of the triangle with the coordinate system's origin by applying an appropriate **translation**:"
   ]
  },
  {
   "cell_type": "code",
   "execution_count": 5,
   "id": "b5c15ce2-5390-4aa8-8d0e-2bee2a93deec",
   "metadata": {},
   "outputs": [
    {
     "data": {
      "image/png": "[encoded data removed]",
      "text/plain": [
       "<Figure size 576x396 with 1 Axes>"
      ]
     },
     "metadata": {},
     "output_type": "display_data"
    }
   ],
   "source": [
    "geometric_center = sum(triangle) / 3\n",
    "centered_triangle = [vertex - geometric_center for vertex in triangle]\n",
    "draw(centered_triangle)"
   ]
  },
  {
   "cell_type": "markdown",
   "id": "1e7a014a-f999-4514-92ba-4a724c253088",
   "metadata": {},
   "source": [
    "This triangle looks the same as before, but the coordinates of its vertices have shifted.\n",
    "\n",
    "You can play around with a custom translation below:"
   ]
  },
  {
   "cell_type": "code",
   "execution_count": 6,
   "id": "825d607d-1286-4bf4-936e-d433b08e76f4",
   "metadata": {},
   "outputs": [
    {
     "data": {
      "application/vnd.jupyter.widget-view+json": {
       "model_id": "b9c1cf1393f8488fb45bb4c770308981",
       "version_major": 2,
       "version_minor": 0
      },
      "text/plain": [
       "interactive(children=(IntSlider(value=0, description='xoffset', max=20, min=-20), IntSlider(value=0, descripti…"
      ]
     },
     "metadata": {},
     "output_type": "display_data"
    }
   ],
   "source": [
    "@interact(\n",
    "    xoffset=IntSlider(min=-20, max=20, value=0, step=1),\n",
    "    yoffset=IntSlider(min=-20, max=20, value=0, step=1),\n",
    ")\n",
    "def translate(xoffset, yoffset):\n",
    "    offset = complex(xoffset, yoffset)\n",
    "    scaled_triangle = [vertex + offset for vertex in centered_triangle]\n",
    "    draw(scaled_triangle)"
   ]
  },
  {
   "cell_type": "markdown",
   "id": "5fbaf020-8ea9-432d-b5ed-eb50a51c8bfc",
   "metadata": {},
   "source": [
    "## Flipping\n",
    "\n",
    "To flip a complex number around an axis, take the **negative** of the relevant component or calculate the **complex conjugate** for the vertical symmetry:"
   ]
  },
  {
   "cell_type": "code",
   "execution_count": 7,
   "id": "1f2330f8-8324-4df4-996d-381139fbf6fc",
   "metadata": {},
   "outputs": [
    {
     "data": {
      "application/vnd.jupyter.widget-view+json": {
       "model_id": "ac69bcf4af274a2ba829ff87cef2f511",
       "version_major": 2,
       "version_minor": 0
      },
      "text/plain": [
       "interactive(children=(Checkbox(value=False, description='horizontally'), Checkbox(value=False, description='ve…"
      ]
     },
     "metadata": {},
     "output_type": "display_data"
    }
   ],
   "source": [
    "def flip_horizontally(z: complex) -> complex:\n",
    "    return complex(-z.real, z.imag)\n",
    "\n",
    "\n",
    "def flip_vertically(z: complex) -> complex:\n",
    "    return z.conjugate()  # Alternatively: complex(z.real, -z.imag)\n",
    "\n",
    "\n",
    "@interact(horizontally=False, vertically=False)\n",
    "def flip(horizontally, vertically):\n",
    "    flipped_triangle = centered_triangle\n",
    "    if horizontally:\n",
    "        flipped_triangle = [\n",
    "            flip_horizontally(vertex) for vertex in flipped_triangle\n",
    "        ]\n",
    "    if vertically:\n",
    "        flipped_triangle = [\n",
    "            flip_vertically(vertex) for vertex in flipped_triangle\n",
    "        ]\n",
    "    lim = (-20, 20)\n",
    "    draw(flipped_triangle, xlim=lim, ylim=lim, letters=True)"
   ]
  },
  {
   "cell_type": "markdown",
   "id": "7907e6fd-3e22-4025-840f-c2627195b8eb",
   "metadata": {},
   "source": [
    "## Scaling\n",
    "\n",
    "Multiply every vertex by a **real number** to stretch the triangle:"
   ]
  },
  {
   "cell_type": "code",
   "execution_count": 8,
   "id": "b4459aa4-b6f9-4a3a-b7bf-809dcc9c0864",
   "metadata": {},
   "outputs": [
    {
     "data": {
      "application/vnd.jupyter.widget-view+json": {
       "model_id": "361625647f97461bba690149cb38250e",
       "version_major": 2,
       "version_minor": 0
      },
      "text/plain": [
       "interactive(children=(FloatSlider(value=1.0, description='size', max=5.0, min=0.5, step=0.5), Output()), _dom_…"
      ]
     },
     "metadata": {},
     "output_type": "display_data"
    }
   ],
   "source": [
    "@interact(size=FloatSlider(min=0.5, max=5, value=1, step=0.5))\n",
    "def scale(size):\n",
    "    scaled_triangle = [size * vertex for vertex in centered_triangle]\n",
    "    draw(scaled_triangle)"
   ]
  },
  {
   "cell_type": "markdown",
   "id": "8fcc2809-4483-41f5-b1f0-615f1b98c9ba",
   "metadata": {},
   "source": [
    "## Rotation\n",
    "\n",
    "Multiplying the triangle by the **imaginary unit** (`1j`) once has the effect of rotating it 90° counterclockwise around the coordinate system's origin. If you continue doing that, you'll arrive where you began:"
   ]
  },
  {
   "cell_type": "code",
   "execution_count": 9,
   "id": "023c6d7d-dc56-452d-9ea3-6b27a79963a9",
   "metadata": {},
   "outputs": [
    {
     "data": {
      "application/vnd.jupyter.widget-view+json": {
       "model_id": "2c80157752704b9a9817b3468c53fde9",
       "version_major": 2,
       "version_minor": 0
      },
      "text/plain": [
       "interactive(children=(IntSlider(value=90, description='angle', max=360), Output()), _dom_classes=('widget-inte…"
      ]
     },
     "metadata": {},
     "output_type": "display_data"
    }
   ],
   "source": [
    "def rotate(z: complex, degrees: float) -> complex:\n",
    "    return z * 1j ** (degrees / 90)\n",
    "\n",
    "\n",
    "@interact(angle=IntSlider(min=0, max=360, value=90, step=1))\n",
    "def show_rotate(angle):\n",
    "    plt.gca().add_patch(\n",
    "        plt.Circle((0, 0), 85, lw=1, edgecolor=\"silver\", facecolor=\"None\")\n",
    "    )\n",
    "    lim = (-100, 100)\n",
    "    rotated_triangle = [rotate(vertex, angle) for vertex in triangle]\n",
    "    draw(triangle, xlim=lim, ylim=lim, letters=True)\n",
    "    draw(\n",
    "        rotated_triangle,\n",
    "        xlim=lim,\n",
    "        ylim=lim,\n",
    "        fill=\"firebrick\",\n",
    "        stroke=\"maroon\",\n",
    "        letters=True,\n",
    "    )"
   ]
  }
 ],
 "metadata": {
  "kernelspec": {
   "display_name": "Python 3",
   "language": "python",
   "name": "python3"
  },
  "language_info": {
   "codemirror_mode": {
    "name": "ipython",
    "version": 3
   },
   "file_extension": ".py",
   "mimetype": "text/x-python",
   "name": "python",
   "nbconvert_exporter": "python",
   "pygments_lexer": "ipython3",
   "version": "3.9.5"
  }
 },
 "nbformat": 4,
 "nbformat_minor": 5
}
