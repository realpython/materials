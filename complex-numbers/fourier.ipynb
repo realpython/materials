{
 "cells": [
  {
   "cell_type": "markdown",
   "id": "2e92475f-6278-4551-b9c6-6fdadcc96dc3",
   "metadata": {},
   "source": [
    "# Sound Frequency Analysis\n",
    "\n",
    "## Sine Wave\n",
    "\n",
    "A sine wave is a function of time descibed by the **amplitude** ($A$), **frequency** ($f$), and the **phase** ($\\varphi$):\n",
    "\n",
    "$y(t)=A\\sin(2\\pi ft+\\varphi)$\n",
    "\n",
    "You can use NumPy to generate data samples of such sinusoids:"
   ]
  },
  {
   "cell_type": "code",
   "execution_count": 1,
   "id": "c84f447d-ebc6-48c8-9792-ae3e6e4ba68d",
   "metadata": {},
   "outputs": [],
   "source": [
    "import numpy as np\n",
    "\n",
    "NUM_SAMPLES_PER_SECOND = 44100\n",
    "\n",
    "\n",
    "def sine_wave(\n",
    "    frequency,\n",
    "    phase=0,\n",
    "    amplitude=1,\n",
    "    seconds=5,\n",
    "    samples_per_second=NUM_SAMPLES_PER_SECOND,\n",
    "):\n",
    "    t = np.linspace(0, seconds, seconds * samples_per_second)\n",
    "    return amplitude * np.sin(2 * np.pi * frequency * t + phase)"
   ]
  },
  {
   "cell_type": "markdown",
   "id": "974c514c-9f16-4845-ad73-68394b2f4bce",
   "metadata": {},
   "source": [
    "## Mixing Tones\n",
    "\n",
    "Let's mix a few sine waves to produce a sound comprised of multiple frequencies."
   ]
  },
  {
   "cell_type": "markdown",
   "id": "55a3c27c-acdf-4a96-bcc6-0613ac2068aa",
   "metadata": {},
   "source": [
    "<div class=\"alert alert-warning\">\n",
    "    <strong>Note:</strong> The function below declares a variable as global, which is usually considered a bad programming practice. Global variables introduce tight-coupling between unrelated pieces of code, making them less flexible and vulnerable to unintended side effects. In this case, however, it's okay because you want to generate a tone interactively and then visualize and analyze it later.\n",
    "</div>"
   ]
  },
  {
   "cell_type": "markdown",
   "id": "1f81b532-7e0d-4c3b-9c3f-380ab439d8dd",
   "metadata": {},
   "source": [
    "If you choose close frequency values, then you'll hear a peculiar [beating](https://en.wikipedia.org/wiki/Beat_(acoustics)) interference pattern:"
   ]
  },
  {
   "cell_type": "code",
   "execution_count": 2,
   "id": "771b4d63-6158-4362-9e58-07ef8df3cfc3",
   "metadata": {},
   "outputs": [
    {
     "data": {
      "application/vnd.jupyter.widget-view+json": {
       "model_id": "ea19145b9a2e485898ae05841ec25ed2",
       "version_major": 2,
       "version_minor": 0
      },
      "text/plain": [
       "interactive(children=(Checkbox(value=False, description='autoplay'), FloatSlider(value=220.0, description='fre…"
      ]
     },
     "metadata": {},
     "output_type": "display_data"
    }
   ],
   "source": [
    "from IPython.display import Audio, display\n",
    "from ipywidgets import FloatSlider, interact\n",
    "\n",
    "tone = None\n",
    "\n",
    "\n",
    "@interact(\n",
    "    autoplay=False,\n",
    "    freq1=FloatSlider(min=1, max=1000, value=220),\n",
    "    freq2=FloatSlider(min=1, max=1000, value=440),\n",
    "    freq3=FloatSlider(min=1, max=1000, value=440.5),\n",
    ")\n",
    "def make_tone(autoplay, freq1, freq2, freq3):\n",
    "    global tone\n",
    "    tone = sine_wave(freq1) + sine_wave(freq2) + sine_wave(freq3)\n",
    "    display(Audio(tone, rate=NUM_SAMPLES_PER_SECOND, autoplay=autoplay))"
   ]
  },
  {
   "cell_type": "markdown",
   "id": "6f7d1a3f-ebdb-47fe-afc6-ab84c274765a",
   "metadata": {},
   "source": [
    "Here's the plot of the waveform:"
   ]
  },
  {
   "cell_type": "code",
   "execution_count": 3,
   "id": "c9b2c07f-fed7-44b5-b99b-2986f1d0683f",
   "metadata": {},
   "outputs": [
    {
     "data": {
      "text/plain": [
       "[<matplotlib.lines.Line2D at 0x7f876cb0d370>]"
      ]
     },
     "execution_count": 3,
     "metadata": {},
     "output_type": "execute_result"
    },
    {
     "data": {
      "image/png": "[encoded data removed]",
      "text/plain": [
       "<Figure size 432x288 with 1 Axes>"
      ]
     },
     "metadata": {
      "needs_background": "light"
     },
     "output_type": "display_data"
    }
   ],
   "source": [
    "import matplotlib.pyplot as plt\n",
    "\n",
    "plt.xlim(0, NUM_SAMPLES_PER_SECOND * 5)\n",
    "plt.plot(tone)"
   ]
  },
  {
   "cell_type": "markdown",
   "id": "5b6a6c5a-9531-4381-83f7-c34bac540c00",
   "metadata": {},
   "source": [
    "## Discrete Fourier Transform\n",
    "\n",
    "Here's the code that calculates the Discrete Fourier Transform and plots the frequency spectrum: "
   ]
  },
  {
   "cell_type": "code",
   "execution_count": 4,
   "id": "f6cebd8e-f589-4093-84f7-d6234ed97fcf",
   "metadata": {},
   "outputs": [],
   "source": [
    "from cmath import exp, pi\n",
    "\n",
    "\n",
    "def discrete_fourier_transform(x, k):\n",
    "    omega = 2 * pi * k / (N := len(x))\n",
    "    return sum(x[n] * exp(-1j * omega * n) for n in range(N))\n",
    "\n",
    "\n",
    "def plot_frequency_spectrum(\n",
    "    samples,\n",
    "    samples_per_second,\n",
    "    min_frequency=0,\n",
    "    max_frequency=None,\n",
    "):\n",
    "    num_bins = len(samples) // 2\n",
    "    nyquist_frequency = samples_per_second // 2\n",
    "\n",
    "    magnitudes = []\n",
    "    for k in range(num_bins):\n",
    "        magnitudes.append(abs(discrete_fourier_transform(samples, k)))\n",
    "\n",
    "    # Normalize magnitudes\n",
    "    magnitudes = [m / max(magnitudes) for m in magnitudes]\n",
    "\n",
    "    # Calculate frequency bins\n",
    "    bin_resolution = samples_per_second / len(samples)\n",
    "    frequency_bins = [k * bin_resolution for k in range(num_bins)]\n",
    "\n",
    "    plt.xlim(min_frequency, max_frequency or nyquist_frequency)\n",
    "    plt.bar(frequency_bins, magnitudes, width=bin_resolution)"
   ]
  },
  {
   "cell_type": "markdown",
   "id": "41ab369d-8757-4de9-8578-1cd6ce3ffbf4",
   "metadata": {},
   "source": [
    "Speed up the calculations by taking only a small window of the sound wave:"
   ]
  },
  {
   "cell_type": "code",
   "execution_count": 5,
   "id": "2faa2cda-16b9-41a0-b455-66bfdbfd29ed",
   "metadata": {},
   "outputs": [
    {
     "data": {
      "image/png": "[encoded data removed]",
      "text/plain": [
       "<Figure size 432x288 with 1 Axes>"
      ]
     },
     "metadata": {
      "needs_background": "light"
     },
     "output_type": "display_data"
    }
   ],
   "source": [
    "plot_frequency_spectrum(\n",
    "    tone[:1024], NUM_SAMPLES_PER_SECOND, max_frequency=2000\n",
    ")"
   ]
  }
 ],
 "metadata": {
  "kernelspec": {
   "display_name": "Python 3",
   "language": "python",
   "name": "python3"
  },
  "language_info": {
   "codemirror_mode": {
    "name": "ipython",
    "version": 3
   },
   "file_extension": ".py",
   "mimetype": "text/x-python",
   "name": "python",
   "nbconvert_exporter": "python",
   "pygments_lexer": "ipython3",
   "version": "3.9.2"
  }
 },
 "nbformat": 4,
 "nbformat_minor": 5
}
