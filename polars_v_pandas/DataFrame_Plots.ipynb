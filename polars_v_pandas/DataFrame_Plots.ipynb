{
 "cells": [
  {
   "cell_type": "markdown",
   "id": "8ced8243-d770-437e-a90d-f794ffa57fc0",
   "metadata": {},
   "source": [
    "# Dataframe Plots\n",
    "## (i) polars Plotting"
   ]
  },
  {
   "cell_type": "code",
   "execution_count": 1,
   "id": "1cf56fd3-605c-4449-8a5e-d0fd94b49080",
   "metadata": {},
   "outputs": [],
   "source": [
    "from data_generation import data_generation\n",
    "\n",
    "sales_data = data_generation(50)"
   ]
  },
  {
   "cell_type": "code",
   "execution_count": 13,
   "id": "014e9e56-8fff-45ab-85ff-eb51840f2bc7",
   "metadata": {},
   "outputs": [
    {
     "data": {
      "text/html": [
       "\n",
       "<style>\n",
       "  #altair-viz-8ba2826813134ecb89507a6e845d7671.vega-embed {\n",
       "    width: 100%;\n",
       "    display: flex;\n",
       "  }\n",
       "\n",
       "  #altair-viz-8ba2826813134ecb89507a6e845d7671.vega-embed details,\n",
       "  #altair-viz-8ba2826813134ecb89507a6e845d7671.vega-embed details summary {\n",
       "    position: relative;\n",
       "  }\n",
       "</style>\n",
       "<div id=\"altair-viz-8ba2826813134ecb89507a6e845d7671\"></div>\n",
       "<script type=\"text/javascript\">\n",
       "  var VEGA_DEBUG = (typeof VEGA_DEBUG == \"undefined\") ? {} : VEGA_DEBUG;\n",
       "  (function(spec, embedOpt){\n",
       "    let outputDiv = document.currentScript.previousElementSibling;\n",
       "    if (outputDiv.id !== \"altair-viz-8ba2826813134ecb89507a6e845d7671\") {\n",
       "      outputDiv = document.getElementById(\"altair-viz-8ba2826813134ecb89507a6e845d7671\");\n",
       "    }\n",
       "\n",
       "    const paths = {\n",
       "      \"vega\": \"https://cdn.jsdelivr.net/npm/vega@5?noext\",\n",
       "      \"vega-lib\": \"https://cdn.jsdelivr.net/npm/vega-lib?noext\",\n",
       "      \"vega-lite\": \"https://cdn.jsdelivr.net/npm/vega-lite@5.20.1?noext\",\n",
       "      \"vega-embed\": \"https://cdn.jsdelivr.net/npm/vega-embed@6?noext\",\n",
       "    };\n",
       "\n",
       "    function maybeLoadScript(lib, version) {\n",
       "      var key = `${lib.replace(\"-\", \"\")}_version`;\n",
       "      return (VEGA_DEBUG[key] == version) ?\n",
       "        Promise.resolve(paths[lib]) :\n",
       "        new Promise(function(resolve, reject) {\n",
       "          var s = document.createElement('script');\n",
       "          document.getElementsByTagName(\"head\")[0].appendChild(s);\n",
       "          s.async = true;\n",
       "          s.onload = () => {\n",
       "            VEGA_DEBUG[key] = version;\n",
       "            return resolve(paths[lib]);\n",
       "          };\n",
       "          s.onerror = () => reject(`Error loading script: ${paths[lib]}`);\n",
       "          s.src = paths[lib];\n",
       "        });\n",
       "    }\n",
       "\n",
       "    function showError(err) {\n",
       "      outputDiv.innerHTML = `<div class=\"error\" style=\"color:red;\">${err}</div>`;\n",
       "      throw err;\n",
       "    }\n",
       "\n",
       "    function displayChart(vegaEmbed) {\n",
       "      vegaEmbed(outputDiv, spec, embedOpt)\n",
       "        .catch(err => showError(`Javascript Error: ${err.message}<br>This usually means there's a typo in your chart specification. See the javascript console for the full traceback.`));\n",
       "    }\n",
       "\n",
       "    if(typeof define === \"function\" && define.amd) {\n",
       "      requirejs.config({paths});\n",
       "      let deps = [\"vega-embed\"];\n",
       "      require(deps, displayChart, err => showError(`Error loading script: ${err.message}`));\n",
       "    } else {\n",
       "      maybeLoadScript(\"vega\", \"5\")\n",
       "        .then(() => maybeLoadScript(\"vega-lite\", \"5.20.1\"))\n",
       "        .then(() => maybeLoadScript(\"vega-embed\", \"6\"))\n",
       "        .catch(showError)\n",
       "        .then(() => displayChart(vegaEmbed));\n",
       "    }\n",
       "  })({\"config\": {\"view\": {\"continuousWidth\": 300, \"continuousHeight\": 300}}, \"data\": {\"name\": \"data-159c52734babc7cde95fec2ae7a7b4b4\"}, \"mark\": {\"type\": \"bar\", \"tooltip\": true}, \"encoding\": {\"x\": {\"field\": \"region\", \"type\": \"nominal\"}, \"y\": {\"field\": \"total_sales\", \"type\": \"quantitative\"}}, \"height\": 200, \"params\": [{\"name\": \"param_5\", \"select\": {\"type\": \"interval\", \"encodings\": [\"x\", \"y\"]}, \"bind\": \"scales\"}], \"title\": \"Total Sales per Region ($)\", \"width\": 200, \"$schema\": \"https://vega.github.io/schema/vega-lite/v5.20.1.json\", \"datasets\": {\"data-159c52734babc7cde95fec2ae7a7b4b4\": [{\"region\": \"West\", \"total_sales\": 44935}, {\"region\": \"South\", \"total_sales\": 29223}, {\"region\": \"East\", \"total_sales\": 23285}, {\"region\": \"North\", \"total_sales\": 21736}]}}, {\"mode\": \"vega-lite\"});\n",
       "</script>"
      ],
      "text/plain": [
       "alt.Chart(...)"
      ]
     },
     "execution_count": 13,
     "metadata": {},
     "output_type": "execute_result"
    }
   ],
   "source": [
    "import polars as pl\n",
    "\n",
    "from data_generation import data_generation\n",
    "\n",
    "orders_polars = pl.DataFrame(sales_data)\n",
    "\n",
    "(\n",
    "    orders_polars.group_by(\"region\")\n",
    "    .agg(total_sales=pl.col(\"sales_income\").sum())\n",
    "    .plot.bar(x=\"region\", y=\"total_sales\")\n",
    "    .properties(width=200, height=200, title=\"Total Sales per Region ($)\")\n",
    ")"
   ]
  },
  {
   "cell_type": "markdown",
   "id": "a62335eb-4763-4c46-adb2-d7386914f56b",
   "metadata": {},
   "source": [
    "## (ii) Pandas Plotting"
   ]
  },
  {
   "cell_type": "code",
   "execution_count": 14,
   "id": "85929590-e514-4497-b396-58cfe26e59d3",
   "metadata": {},
   "outputs": [
    {
     "data": {
      "text/plain": [
       "<Axes: title={'center': 'Total Sales per Region ($)'}, xlabel='region', ylabel='total_sales'>"
      ]
     },
     "execution_count": 14,
     "metadata": {},
     "output_type": "execute_result"
    },
    {
     "data": {
      "image/png": "[encoded data removed]",
      "text/plain": [
       "<Figure size 640x480 with 1 Axes>"
      ]
     },
     "metadata": {},
     "output_type": "display_data"
    }
   ],
   "source": [
    "import pandas as pd\n",
    "\n",
    "orders_pandas = pd.DataFrame(sales_data)\n",
    "\n",
    "(\n",
    "    orders_pandas.groupby(\n",
    "        [\n",
    "            \"region\",\n",
    "        ]\n",
    "    )[\"sales_income\"]\n",
    "    .sum()\n",
    "    .plot(kind=\"bar\", title=\"Total Sales per Region ($)\", ylabel=\"total_sales\")\n",
    ")"
   ]
  },
  {
   "cell_type": "code",
   "execution_count": null,
   "id": "344d9c42-8566-43c6-b3e2-c840aa8ab46d",
   "metadata": {},
   "outputs": [],
   "source": []
  }
 ],
 "metadata": {
  "kernelspec": {
   "display_name": "Python 3 (ipykernel)",
   "language": "python",
   "name": "python3"
  },
  "language_info": {
   "codemirror_mode": {
    "name": "ipython",
    "version": 3
   },
   "file_extension": ".py",
   "mimetype": "text/x-python",
   "name": "python",
   "nbconvert_exporter": "python",
   "pygments_lexer": "ipython3",
   "version": "3.13.1"
  }
 },
 "nbformat": 4,
 "nbformat_minor": 5
}
